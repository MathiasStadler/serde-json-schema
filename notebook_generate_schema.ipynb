{
 "cells": [
  {
   "cell_type": "markdown",
   "metadata": {},
   "source": [
    "[FROM HERE](https://github.com/hoodie/serde-json-schema)"
   ]
  },
  {
   "cell_type": "markdown",
   "metadata": {},
   "source": [
    "# Motivation generate a schema of Jupyter Notebook"
   ]
  },
  {
   "cell_type": "markdown",
   "metadata": {},
   "source": [
    "# env\n",
    "\n",
    "```bash\n",
    "cat /etc/os-release \n",
    "PRETTY_NAME=\"Ubuntu 22.04.4 LTS\"\n",
    "NAME=\"Ubuntu\"\n",
    "VERSION_ID=\"22.04\"\n",
    "VERSION=\"22.04.4 LTS (Jammy Jellyfish)\"\n",
    "VERSION_CODENAME=jammy\n",
    "ID=ubuntu\n",
    "ID_LIKE=debian\n",
    "HOME_URL=\"https://www.ubuntu.com/\"\n",
    "SUPPORT_URL=\"https://help.ubuntu.com/\"\n",
    "BUG_REPORT_URL=\"https://bugs.launchpad.net/ubuntu/\"\n",
    "PRIVACY_POLICY_URL=\"https://www.ubuntu.com/legal/terms-and-policies/privacy-policy\"\n",
    "UBUNTU_CODENAME=jammy\n",
    "\n",
    "cargo --version\n",
    "cargo 1.73.0-nightly (020651c52 2023-08-02)\n",
    "```"
   ]
  },
  {
   "cell_type": "markdown",
   "metadata": {},
   "source": [
    "- create plain jupyter empty notebook\n",
    "- create Schema of empty notebook"
   ]
  },
  {
   "cell_type": "code",
   "execution_count": null,
   "metadata": {
    "vscode": {
     "languageId": "shellscript"
    }
   },
   "outputs": [],
   "source": [
    "#!/usr/bin/bash\n",
    "cargo run --example usage_notebook"
   ]
  },
  {
   "cell_type": "markdown",
   "metadata": {},
   "source": [
    "- schema of notebook\n",
    "\n",
    "```bash\n",
    "Schema(\n",
    "    Schema(\n",
    "        SchemaDefinition {\n",
    "            id: None,\n",
    "            schema: None,\n",
    "            description: None,\n",
    "            dependencies: None,\n",
    "            specification: None,\n",
    "            definitions: None,\n",
    "        },\n",
    "    ),\n",
    ")\n",
    "```"
   ]
  },
  {
   "cell_type": "markdown",
   "metadata": {},
   "source": [
    "# the error\n",
    "\n",
    "```bash\n",
    " ~/Downloads/jtd-codegen json-typedef-rust.ipynb --log-format --rust-out /tmp\n",
    "Error: Failed to parse input as JSON\n",
    "\n",
    "Caused by:\n",
    "    unknown field `cells`, expected one of `definitions`, `nullable`, `ref`, `type`, `enum`, `elements`, `properties`, `optionalProperties`, `additionalProperties`, `values`, `discriminator`, `mapping`, `metadata` at line 2 column 9\n",
    "\n",
    "```"
   ]
  },
  {
   "cell_type": "markdown",
   "metadata": {},
   "source": [
    "HIER WEITER => https://github.com/MathiasStadler/test-crates-jtd/blob/master/test/simple.rs\n",
    "HIER WEITER => https://docs.rs/jtd/latest/jtd/\n",
    "HIER WEITER => https://github.com/MathiasStadler/serde-json-schema\n"
   ]
  },
  {
   "cell_type": "markdown",
   "metadata": {},
   "source": [
    "jtd - Rust\n",
    "Docs.rs\n",
    "https://docs.rs › jtd\n",
    "An implementation of JSON Type Definition, RFC 8927. jtd lets you parse and ensure the validity of JSON Typedef schemas, and then validate JSON data against ..."
   ]
  }
 ],
 "metadata": {
  "kernelspec": {
   "display_name": "Bash",
   "language": "bash",
   "name": "bash"
  },
  "language_info": {
   "name": "bash"
  }
 },
 "nbformat": 4,
 "nbformat_minor": 2
}
